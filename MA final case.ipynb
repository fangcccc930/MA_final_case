{
 "cells": [
  {
   "cell_type": "markdown",
   "metadata": {},
   "source": [
    "# Data Preprocessing"
   ]
  },
  {
   "cell_type": "code",
   "execution_count": 1,
   "metadata": {
    "ExecuteTime": {
     "end_time": "2020-12-14T01:45:28.708890Z",
     "start_time": "2020-12-14T01:45:26.750042Z"
    }
   },
   "outputs": [],
   "source": [
    "#import necessary packages\n",
    "import numpy as np\n",
    "import pandas as pd"
   ]
  },
  {
   "cell_type": "code",
   "execution_count": 2,
   "metadata": {
    "ExecuteTime": {
     "end_time": "2020-12-14T01:45:29.517737Z",
     "start_time": "2020-12-14T01:45:28.717868Z"
    }
   },
   "outputs": [
    {
     "data": {
      "text/html": [
       "<div>\n",
       "<style scoped>\n",
       "    .dataframe tbody tr th:only-of-type {\n",
       "        vertical-align: middle;\n",
       "    }\n",
       "\n",
       "    .dataframe tbody tr th {\n",
       "        vertical-align: top;\n",
       "    }\n",
       "\n",
       "    .dataframe thead th {\n",
       "        text-align: right;\n",
       "    }\n",
       "</style>\n",
       "<table border=\"1\" class=\"dataframe\">\n",
       "  <thead>\n",
       "    <tr style=\"text-align: right;\">\n",
       "      <th></th>\n",
       "      <th>channel</th>\n",
       "      <th>date</th>\n",
       "      <th>spend_AED</th>\n",
       "    </tr>\n",
       "  </thead>\n",
       "  <tbody>\n",
       "    <tr>\n",
       "      <th>0</th>\n",
       "      <td>bing</td>\n",
       "      <td>201907</td>\n",
       "      <td>400</td>\n",
       "    </tr>\n",
       "    <tr>\n",
       "      <th>1</th>\n",
       "      <td>display</td>\n",
       "      <td>201907</td>\n",
       "      <td>12</td>\n",
       "    </tr>\n",
       "    <tr>\n",
       "      <th>2</th>\n",
       "      <td>facebook</td>\n",
       "      <td>201907</td>\n",
       "      <td>9000</td>\n",
       "    </tr>\n",
       "    <tr>\n",
       "      <th>3</th>\n",
       "      <td>search</td>\n",
       "      <td>201907</td>\n",
       "      <td>13000</td>\n",
       "    </tr>\n",
       "    <tr>\n",
       "      <th>4</th>\n",
       "      <td>youtube</td>\n",
       "      <td>201907</td>\n",
       "      <td>90</td>\n",
       "    </tr>\n",
       "  </tbody>\n",
       "</table>\n",
       "</div>"
      ],
      "text/plain": [
       "    channel    date  spend_AED\n",
       "0      bing  201907        400\n",
       "1   display  201907         12\n",
       "2  facebook  201907       9000\n",
       "3    search  201907      13000\n",
       "4   youtube  201907         90"
      ]
     },
     "execution_count": 2,
     "metadata": {},
     "output_type": "execute_result"
    }
   ],
   "source": [
    "#open files\n",
    "\n",
    "\n",
    "subscribers=pd.read_csv('subscribers.csv')\n",
    "subscribers.head()\n",
    "\n",
    "spend=pd.read_csv('channel_spend_graduate.csv')\n",
    "spend.head()\n"
   ]
  },
  {
   "cell_type": "code",
   "execution_count": 3,
   "metadata": {
    "ExecuteTime": {
     "end_time": "2020-12-14T01:45:30.156808Z",
     "start_time": "2020-12-14T01:45:30.151821Z"
    },
    "scrolled": true
   },
   "outputs": [
    {
     "data": {
      "text/plain": [
       "(40, 3)"
      ]
     },
     "execution_count": 3,
     "metadata": {},
     "output_type": "execute_result"
    }
   ],
   "source": [
    "#check the structure of both files\n",
    "subscribers.shape\n",
    "spend.shape"
   ]
  },
  {
   "cell_type": "markdown",
   "metadata": {},
   "source": [
    "## basic preprocessing"
   ]
  },
  {
   "cell_type": "code",
   "execution_count": 4,
   "metadata": {
    "ExecuteTime": {
     "end_time": "2020-12-14T01:45:32.510951Z",
     "start_time": "2020-12-14T01:45:32.322457Z"
    }
   },
   "outputs": [
    {
     "data": {
      "text/html": [
       "<div>\n",
       "<style scoped>\n",
       "    .dataframe tbody tr th:only-of-type {\n",
       "        vertical-align: middle;\n",
       "    }\n",
       "\n",
       "    .dataframe tbody tr th {\n",
       "        vertical-align: top;\n",
       "    }\n",
       "\n",
       "    .dataframe thead th {\n",
       "        text-align: right;\n",
       "    }\n",
       "</style>\n",
       "<table border=\"1\" class=\"dataframe\">\n",
       "  <thead>\n",
       "    <tr style=\"text-align: right;\">\n",
       "      <th></th>\n",
       "      <th>subid</th>\n",
       "      <th>package_type</th>\n",
       "      <th>num_weekly_services_utilized</th>\n",
       "      <th>preferred_genre</th>\n",
       "      <th>intended_use</th>\n",
       "      <th>weekly_consumption_hour</th>\n",
       "      <th>num_ideal_streaming_services</th>\n",
       "      <th>age</th>\n",
       "      <th>male_TF</th>\n",
       "      <th>country</th>\n",
       "      <th>...</th>\n",
       "      <th>join_fee</th>\n",
       "      <th>language</th>\n",
       "      <th>payment_type</th>\n",
       "      <th>num_trial_days</th>\n",
       "      <th>current_sub_TF</th>\n",
       "      <th>payment_period</th>\n",
       "      <th>last_payment</th>\n",
       "      <th>next_payment</th>\n",
       "      <th>cancel_date</th>\n",
       "      <th>trial_completed</th>\n",
       "    </tr>\n",
       "  </thead>\n",
       "  <tbody>\n",
       "    <tr>\n",
       "      <th>0</th>\n",
       "      <td>21724479</td>\n",
       "      <td>economy</td>\n",
       "      <td>NaN</td>\n",
       "      <td>comedy</td>\n",
       "      <td>access to exclusive content</td>\n",
       "      <td>NaN</td>\n",
       "      <td>NaN</td>\n",
       "      <td>NaN</td>\n",
       "      <td>False</td>\n",
       "      <td>UAE</td>\n",
       "      <td>...</td>\n",
       "      <td>NaN</td>\n",
       "      <td>ar</td>\n",
       "      <td>Standard Charter</td>\n",
       "      <td>14</td>\n",
       "      <td>True</td>\n",
       "      <td>1</td>\n",
       "      <td>2020-02-07 21:44:16</td>\n",
       "      <td>2020-06-07 21:44:16</td>\n",
       "      <td>NaN</td>\n",
       "      <td>True</td>\n",
       "    </tr>\n",
       "    <tr>\n",
       "      <th>1</th>\n",
       "      <td>23383224</td>\n",
       "      <td>base</td>\n",
       "      <td>NaN</td>\n",
       "      <td>comedy</td>\n",
       "      <td>access to exclusive content</td>\n",
       "      <td>22.951579</td>\n",
       "      <td>NaN</td>\n",
       "      <td>70.0</td>\n",
       "      <td>False</td>\n",
       "      <td>UAE</td>\n",
       "      <td>...</td>\n",
       "      <td>0.3303</td>\n",
       "      <td>ar</td>\n",
       "      <td>NaN</td>\n",
       "      <td>14</td>\n",
       "      <td>True</td>\n",
       "      <td>1</td>\n",
       "      <td>2020-03-15 15:44:35</td>\n",
       "      <td>2020-07-15 15:44:35</td>\n",
       "      <td>NaN</td>\n",
       "      <td>True</td>\n",
       "    </tr>\n",
       "    <tr>\n",
       "      <th>2</th>\n",
       "      <td>26844789</td>\n",
       "      <td>enhanced</td>\n",
       "      <td>3.0</td>\n",
       "      <td>regional</td>\n",
       "      <td>replace OTT</td>\n",
       "      <td>36.001186</td>\n",
       "      <td>2.0</td>\n",
       "      <td>25.0</td>\n",
       "      <td>True</td>\n",
       "      <td>UAE</td>\n",
       "      <td>...</td>\n",
       "      <td>0.1101</td>\n",
       "      <td>ar</td>\n",
       "      <td>NaN</td>\n",
       "      <td>14</td>\n",
       "      <td>False</td>\n",
       "      <td>0</td>\n",
       "      <td>NaN</td>\n",
       "      <td>NaN</td>\n",
       "      <td>NaN</td>\n",
       "      <td>True</td>\n",
       "    </tr>\n",
       "    <tr>\n",
       "      <th>3</th>\n",
       "      <td>29417030</td>\n",
       "      <td>base</td>\n",
       "      <td>NaN</td>\n",
       "      <td>drama</td>\n",
       "      <td>replace OTT</td>\n",
       "      <td>20.051667</td>\n",
       "      <td>NaN</td>\n",
       "      <td>30.0</td>\n",
       "      <td>False</td>\n",
       "      <td>UAE</td>\n",
       "      <td>...</td>\n",
       "      <td>0.0367</td>\n",
       "      <td>ar</td>\n",
       "      <td>NaN</td>\n",
       "      <td>14</td>\n",
       "      <td>False</td>\n",
       "      <td>0</td>\n",
       "      <td>NaN</td>\n",
       "      <td>NaN</td>\n",
       "      <td>NaN</td>\n",
       "      <td>True</td>\n",
       "    </tr>\n",
       "    <tr>\n",
       "      <th>4</th>\n",
       "      <td>26723159</td>\n",
       "      <td>base</td>\n",
       "      <td>4.0</td>\n",
       "      <td>comedy</td>\n",
       "      <td>replace OTT</td>\n",
       "      <td>22.951579</td>\n",
       "      <td>3.0</td>\n",
       "      <td>28.0</td>\n",
       "      <td>False</td>\n",
       "      <td>UAE</td>\n",
       "      <td>...</td>\n",
       "      <td>0.0367</td>\n",
       "      <td>ar</td>\n",
       "      <td>NaN</td>\n",
       "      <td>14</td>\n",
       "      <td>True</td>\n",
       "      <td>2</td>\n",
       "      <td>2020-02-19 12:57:07</td>\n",
       "      <td>2020-06-19 12:57:07</td>\n",
       "      <td>NaN</td>\n",
       "      <td>True</td>\n",
       "    </tr>\n",
       "    <tr>\n",
       "      <th>...</th>\n",
       "      <td>...</td>\n",
       "      <td>...</td>\n",
       "      <td>...</td>\n",
       "      <td>...</td>\n",
       "      <td>...</td>\n",
       "      <td>...</td>\n",
       "      <td>...</td>\n",
       "      <td>...</td>\n",
       "      <td>...</td>\n",
       "      <td>...</td>\n",
       "      <td>...</td>\n",
       "      <td>...</td>\n",
       "      <td>...</td>\n",
       "      <td>...</td>\n",
       "      <td>...</td>\n",
       "      <td>...</td>\n",
       "      <td>...</td>\n",
       "      <td>...</td>\n",
       "      <td>...</td>\n",
       "      <td>...</td>\n",
       "      <td>...</td>\n",
       "    </tr>\n",
       "    <tr>\n",
       "      <th>227623</th>\n",
       "      <td>21434712</td>\n",
       "      <td>enhanced</td>\n",
       "      <td>3.0</td>\n",
       "      <td>comedy</td>\n",
       "      <td>supplement OTT</td>\n",
       "      <td>28.751405</td>\n",
       "      <td>2.0</td>\n",
       "      <td>38.0</td>\n",
       "      <td>False</td>\n",
       "      <td>UAE</td>\n",
       "      <td>...</td>\n",
       "      <td>0.3303</td>\n",
       "      <td>ar</td>\n",
       "      <td>NaN</td>\n",
       "      <td>14</td>\n",
       "      <td>True</td>\n",
       "      <td>1</td>\n",
       "      <td>2019-12-01 14:12:33</td>\n",
       "      <td>2020-04-01 14:12:33</td>\n",
       "      <td>NaN</td>\n",
       "      <td>True</td>\n",
       "    </tr>\n",
       "    <tr>\n",
       "      <th>227624</th>\n",
       "      <td>25843074</td>\n",
       "      <td>enhanced</td>\n",
       "      <td>2.0</td>\n",
       "      <td>comedy</td>\n",
       "      <td>replace OTT</td>\n",
       "      <td>27.301448</td>\n",
       "      <td>2.0</td>\n",
       "      <td>49.0</td>\n",
       "      <td>False</td>\n",
       "      <td>UAE</td>\n",
       "      <td>...</td>\n",
       "      <td>0.3303</td>\n",
       "      <td>ar</td>\n",
       "      <td>Paypal</td>\n",
       "      <td>14</td>\n",
       "      <td>True</td>\n",
       "      <td>1</td>\n",
       "      <td>2019-12-20 18:02:13</td>\n",
       "      <td>2020-04-20 18:02:13</td>\n",
       "      <td>NaN</td>\n",
       "      <td>True</td>\n",
       "    </tr>\n",
       "    <tr>\n",
       "      <th>227625</th>\n",
       "      <td>24799085</td>\n",
       "      <td>base</td>\n",
       "      <td>NaN</td>\n",
       "      <td>comedy</td>\n",
       "      <td>access to exclusive content</td>\n",
       "      <td>31.651317</td>\n",
       "      <td>NaN</td>\n",
       "      <td>45.0</td>\n",
       "      <td>False</td>\n",
       "      <td>UAE</td>\n",
       "      <td>...</td>\n",
       "      <td>0.0367</td>\n",
       "      <td>ar</td>\n",
       "      <td>NaN</td>\n",
       "      <td>14</td>\n",
       "      <td>True</td>\n",
       "      <td>1</td>\n",
       "      <td>2020-01-04 19:40:44</td>\n",
       "      <td>2020-05-04 19:40:44</td>\n",
       "      <td>NaN</td>\n",
       "      <td>True</td>\n",
       "    </tr>\n",
       "    <tr>\n",
       "      <th>227626</th>\n",
       "      <td>21308040</td>\n",
       "      <td>base</td>\n",
       "      <td>NaN</td>\n",
       "      <td>comedy</td>\n",
       "      <td>access to exclusive content</td>\n",
       "      <td>NaN</td>\n",
       "      <td>NaN</td>\n",
       "      <td>NaN</td>\n",
       "      <td>False</td>\n",
       "      <td>UAE</td>\n",
       "      <td>...</td>\n",
       "      <td>NaN</td>\n",
       "      <td>ar</td>\n",
       "      <td>Paypal</td>\n",
       "      <td>14</td>\n",
       "      <td>True</td>\n",
       "      <td>1</td>\n",
       "      <td>2020-01-31 23:58:51</td>\n",
       "      <td>2020-05-31 23:58:51</td>\n",
       "      <td>NaN</td>\n",
       "      <td>True</td>\n",
       "    </tr>\n",
       "    <tr>\n",
       "      <th>227627</th>\n",
       "      <td>20166335</td>\n",
       "      <td>base</td>\n",
       "      <td>NaN</td>\n",
       "      <td>comedy</td>\n",
       "      <td>replace OTT</td>\n",
       "      <td>25.851492</td>\n",
       "      <td>NaN</td>\n",
       "      <td>55.0</td>\n",
       "      <td>False</td>\n",
       "      <td>UAE</td>\n",
       "      <td>...</td>\n",
       "      <td>0.0367</td>\n",
       "      <td>ar</td>\n",
       "      <td>NaN</td>\n",
       "      <td>14</td>\n",
       "      <td>False</td>\n",
       "      <td>0</td>\n",
       "      <td>NaN</td>\n",
       "      <td>NaN</td>\n",
       "      <td>2019-12-09 00:00:00</td>\n",
       "      <td>False</td>\n",
       "    </tr>\n",
       "  </tbody>\n",
       "</table>\n",
       "<p>227628 rows × 30 columns</p>\n",
       "</div>"
      ],
      "text/plain": [
       "           subid package_type  num_weekly_services_utilized preferred_genre  \\\n",
       "0       21724479      economy                           NaN          comedy   \n",
       "1       23383224         base                           NaN          comedy   \n",
       "2       26844789     enhanced                           3.0        regional   \n",
       "3       29417030         base                           NaN           drama   \n",
       "4       26723159         base                           4.0          comedy   \n",
       "...          ...          ...                           ...             ...   \n",
       "227623  21434712     enhanced                           3.0          comedy   \n",
       "227624  25843074     enhanced                           2.0          comedy   \n",
       "227625  24799085         base                           NaN          comedy   \n",
       "227626  21308040         base                           NaN          comedy   \n",
       "227627  20166335         base                           NaN          comedy   \n",
       "\n",
       "                       intended_use  weekly_consumption_hour  \\\n",
       "0       access to exclusive content                      NaN   \n",
       "1       access to exclusive content                22.951579   \n",
       "2                       replace OTT                36.001186   \n",
       "3                       replace OTT                20.051667   \n",
       "4                       replace OTT                22.951579   \n",
       "...                             ...                      ...   \n",
       "227623               supplement OTT                28.751405   \n",
       "227624                  replace OTT                27.301448   \n",
       "227625  access to exclusive content                31.651317   \n",
       "227626  access to exclusive content                      NaN   \n",
       "227627                  replace OTT                25.851492   \n",
       "\n",
       "        num_ideal_streaming_services   age male_TF country  ... join_fee  \\\n",
       "0                                NaN   NaN   False     UAE  ...      NaN   \n",
       "1                                NaN  70.0   False     UAE  ...   0.3303   \n",
       "2                                2.0  25.0    True     UAE  ...   0.1101   \n",
       "3                                NaN  30.0   False     UAE  ...   0.0367   \n",
       "4                                3.0  28.0   False     UAE  ...   0.0367   \n",
       "...                              ...   ...     ...     ...  ...      ...   \n",
       "227623                           2.0  38.0   False     UAE  ...   0.3303   \n",
       "227624                           2.0  49.0   False     UAE  ...   0.3303   \n",
       "227625                           NaN  45.0   False     UAE  ...   0.0367   \n",
       "227626                           NaN   NaN   False     UAE  ...      NaN   \n",
       "227627                           NaN  55.0   False     UAE  ...   0.0367   \n",
       "\n",
       "       language      payment_type  num_trial_days current_sub_TF  \\\n",
       "0            ar  Standard Charter              14           True   \n",
       "1            ar               NaN              14           True   \n",
       "2            ar               NaN              14          False   \n",
       "3            ar               NaN              14          False   \n",
       "4            ar               NaN              14           True   \n",
       "...         ...               ...             ...            ...   \n",
       "227623       ar               NaN              14           True   \n",
       "227624       ar            Paypal              14           True   \n",
       "227625       ar               NaN              14           True   \n",
       "227626       ar            Paypal              14           True   \n",
       "227627       ar               NaN              14          False   \n",
       "\n",
       "        payment_period         last_payment         next_payment  \\\n",
       "0                    1  2020-02-07 21:44:16  2020-06-07 21:44:16   \n",
       "1                    1  2020-03-15 15:44:35  2020-07-15 15:44:35   \n",
       "2                    0                  NaN                  NaN   \n",
       "3                    0                  NaN                  NaN   \n",
       "4                    2  2020-02-19 12:57:07  2020-06-19 12:57:07   \n",
       "...                ...                  ...                  ...   \n",
       "227623               1  2019-12-01 14:12:33  2020-04-01 14:12:33   \n",
       "227624               1  2019-12-20 18:02:13  2020-04-20 18:02:13   \n",
       "227625               1  2020-01-04 19:40:44  2020-05-04 19:40:44   \n",
       "227626               1  2020-01-31 23:58:51  2020-05-31 23:58:51   \n",
       "227627               0                  NaN                  NaN   \n",
       "\n",
       "                cancel_date  trial_completed  \n",
       "0                       NaN             True  \n",
       "1                       NaN             True  \n",
       "2                       NaN             True  \n",
       "3                       NaN             True  \n",
       "4                       NaN             True  \n",
       "...                     ...              ...  \n",
       "227623                  NaN             True  \n",
       "227624                  NaN             True  \n",
       "227625                  NaN             True  \n",
       "227626                  NaN             True  \n",
       "227627  2019-12-09 00:00:00            False  \n",
       "\n",
       "[227628 rows x 30 columns]"
      ]
     },
     "execution_count": 4,
     "metadata": {},
     "output_type": "execute_result"
    }
   ],
   "source": [
    "# drop the first column with no name\n",
    "subscribers.drop('Unnamed: 0',axis=1,inplace=True)\n",
    "subscribers\n"
   ]
  },
  {
   "cell_type": "code",
   "execution_count": 5,
   "metadata": {
    "ExecuteTime": {
     "end_time": "2020-12-14T01:45:34.704165Z",
     "start_time": "2020-12-14T01:45:34.581465Z"
    },
    "scrolled": true
   },
   "outputs": [
    {
     "name": "stdout",
     "output_type": "stream",
     "text": [
      "<class 'pandas.core.frame.DataFrame'>\n",
      "RangeIndex: 227628 entries, 0 to 227627\n",
      "Data columns (total 30 columns):\n",
      " #   Column                        Non-Null Count   Dtype  \n",
      "---  ------                        --------------   -----  \n",
      " 0   subid                         227628 non-null  int64  \n",
      " 1   package_type                  192054 non-null  object \n",
      " 2   num_weekly_services_utilized  117178 non-null  float64\n",
      " 3   preferred_genre               191302 non-null  object \n",
      " 4   intended_use                  224079 non-null  object \n",
      " 5   weekly_consumption_hour       189698 non-null  float64\n",
      " 6   num_ideal_streaming_services  115458 non-null  float64\n",
      " 7   age                           192459 non-null  float64\n",
      " 8   male_TF                       227359 non-null  object \n",
      " 9   country                       227628 non-null  object \n",
      " 10  attribution_technical         227628 non-null  object \n",
      " 11  attribution_survey            224984 non-null  object \n",
      " 12  op_sys                        214253 non-null  object \n",
      " 13  months_per_bill_period        227628 non-null  int64  \n",
      " 14  plan_type                     227628 non-null  object \n",
      " 15  monthly_price                 227628 non-null  float64\n",
      " 16  discount_price                227628 non-null  float64\n",
      " 17  account_creation_date         227628 non-null  object \n",
      " 18  trial_end_date                227628 non-null  object \n",
      " 19  initial_credit_card_declined  227628 non-null  bool   \n",
      " 20  join_fee                      192724 non-null  float64\n",
      " 21  language                      227628 non-null  object \n",
      " 22  payment_type                  92050 non-null   object \n",
      " 23  num_trial_days                227628 non-null  int64  \n",
      " 24  current_sub_TF                227628 non-null  bool   \n",
      " 25  payment_period                227628 non-null  int64  \n",
      " 26  last_payment                  132237 non-null  object \n",
      " 27  next_payment                  130250 non-null  object \n",
      " 28  cancel_date                   36831 non-null   object \n",
      " 29  trial_completed               227628 non-null  bool   \n",
      "dtypes: bool(3), float64(7), int64(4), object(16)\n",
      "memory usage: 47.5+ MB\n",
      "<class 'pandas.core.frame.DataFrame'>\n",
      "RangeIndex: 40 entries, 0 to 39\n",
      "Data columns (total 3 columns):\n",
      " #   Column     Non-Null Count  Dtype \n",
      "---  ------     --------------  ----- \n",
      " 0   channel    40 non-null     object\n",
      " 1   date       40 non-null     int64 \n",
      " 2   spend_AED  40 non-null     int64 \n",
      "dtypes: int64(2), object(1)\n",
      "memory usage: 1.1+ KB\n"
     ]
    }
   ],
   "source": [
    "subscribers.info()\n",
    "spend.info()"
   ]
  },
  {
   "cell_type": "code",
   "execution_count": 6,
   "metadata": {
    "ExecuteTime": {
     "end_time": "2020-12-14T01:45:36.576207Z",
     "start_time": "2020-12-14T01:45:36.408683Z"
    }
   },
   "outputs": [
    {
     "name": "stdout",
     "output_type": "stream",
     "text": [
      "<class 'pandas.core.frame.DataFrame'>\n",
      "Int64Index: 191563 entries, 1 to 227627\n",
      "Data columns (total 27 columns):\n",
      " #   Column                        Non-Null Count   Dtype  \n",
      "---  ------                        --------------   -----  \n",
      " 0   subid                         191563 non-null  int64  \n",
      " 1   package_type                  156202 non-null  object \n",
      " 2   num_weekly_services_utilized  116761 non-null  float64\n",
      " 3   preferred_genre               155456 non-null  object \n",
      " 4   intended_use                  188061 non-null  object \n",
      " 5   weekly_consumption_hour       188808 non-null  float64\n",
      " 6   num_ideal_streaming_services  115045 non-null  float64\n",
      " 7   age                           191563 non-null  float64\n",
      " 8   male_TF                       191559 non-null  object \n",
      " 9   attribution_technical         191563 non-null  object \n",
      " 10  attribution_survey            188961 non-null  object \n",
      " 11  op_sys                        178577 non-null  object \n",
      " 12  plan_type                     191563 non-null  object \n",
      " 13  monthly_price                 191563 non-null  float64\n",
      " 14  discount_price                191563 non-null  float64\n",
      " 15  account_creation_date         191563 non-null  object \n",
      " 16  trial_end_date                191563 non-null  object \n",
      " 17  initial_credit_card_declined  191563 non-null  bool   \n",
      " 18  join_fee                      191563 non-null  float64\n",
      " 19  payment_type                  56707 non-null   object \n",
      " 20  num_trial_days                191563 non-null  int64  \n",
      " 21  current_sub_TF                191563 non-null  bool   \n",
      " 22  payment_period                191563 non-null  int64  \n",
      " 23  last_payment                  107288 non-null  object \n",
      " 24  next_payment                  105465 non-null  object \n",
      " 25  cancel_date                   32523 non-null   object \n",
      " 26  trial_completed               191563 non-null  bool   \n",
      "dtypes: bool(3), float64(7), int64(3), object(14)\n",
      "memory usage: 37.1+ MB\n"
     ]
    }
   ],
   "source": [
    "# drop or modify the columns after profiling\n",
    "subscribers.drop(['country','months_per_bill_period','language'],axis=1,inplace=True)\n",
    "subscribers = subscribers[subscribers['age'] <= 90]\n",
    "subscribers.info()"
   ]
  },
  {
   "cell_type": "code",
   "execution_count": 9,
   "metadata": {
    "ExecuteTime": {
     "end_time": "2020-12-12T13:53:28.128204Z",
     "start_time": "2020-12-12T13:51:14.770509Z"
    }
   },
   "outputs": [
    {
     "data": {
      "application/vnd.jupyter.widget-view+json": {
       "model_id": "2f8ffa070ee64d83a4e9c896e21e4777",
       "version_major": 2,
       "version_minor": 0
      },
      "text/plain": [
       "HBox(children=(FloatProgress(value=0.0, description='Summarize dataset', max=42.0, style=ProgressStyle(descrip…"
      ]
     },
     "metadata": {},
     "output_type": "display_data"
    },
    {
     "name": "stdout",
     "output_type": "stream",
     "text": [
      "\n"
     ]
    },
    {
     "data": {
      "application/vnd.jupyter.widget-view+json": {
       "model_id": "c858296d09b8479c925a6269fb7f6c56",
       "version_major": 2,
       "version_minor": 0
      },
      "text/plain": [
       "HBox(children=(FloatProgress(value=0.0, description='Generate report structure', max=1.0, style=ProgressStyle(…"
      ]
     },
     "metadata": {},
     "output_type": "display_data"
    },
    {
     "name": "stdout",
     "output_type": "stream",
     "text": [
      "\n"
     ]
    },
    {
     "data": {
      "application/vnd.jupyter.widget-view+json": {
       "model_id": "d498c572db204cc4a86a7351a5c50419",
       "version_major": 2,
       "version_minor": 0
      },
      "text/plain": [
       "HBox(children=(FloatProgress(value=0.0, description='Render HTML', max=1.0, style=ProgressStyle(description_wi…"
      ]
     },
     "metadata": {},
     "output_type": "display_data"
    },
    {
     "name": "stdout",
     "output_type": "stream",
     "text": [
      "\n"
     ]
    },
    {
     "data": {
      "application/vnd.jupyter.widget-view+json": {
       "model_id": "fb25e7d184934097928c6b853b95d69e",
       "version_major": 2,
       "version_minor": 0
      },
      "text/plain": [
       "HBox(children=(FloatProgress(value=0.0, description='Export report to file', max=1.0, style=ProgressStyle(desc…"
      ]
     },
     "metadata": {},
     "output_type": "display_data"
    },
    {
     "name": "stdout",
     "output_type": "stream",
     "text": [
      "\n"
     ]
    }
   ],
   "source": [
    "#generate data analytics report\n",
    "#!pip install pandas-profiling\n",
    "from pandas_profiling import ProfileReport\n",
    "profile = ProfileReport(subscribers, title='subscribers')\n",
    "profile.to_file(r\"subscribers.html\")"
   ]
  },
  {
   "cell_type": "code",
   "execution_count": null,
   "metadata": {
    "ExecuteTime": {
     "end_time": "2020-12-11T14:45:26.857829Z",
     "start_time": "2020-12-11T14:45:26.661356Z"
    }
   },
   "outputs": [],
   "source": [
    "#change some columns to strings\n",
    "subscribers['preferred_genre'] = subscribers['preferred_genre'].astype(str)\n",
    "subscribers['package_type'] = subscribers['package_type'].astype(str)\n",
    "subscribers['intended_use'] = subscribers['intended_use'].astype(str)\n",
    "subscribers['op_sys'] = subscribers['op_sys'].astype(str)\n",
    "subscribers['payment_type'] = subscribers['payment_type'].astype(str)"
   ]
  },
  {
   "cell_type": "markdown",
   "metadata": {},
   "source": [
    "# A/B testing\n",
    "\n",
    "in this part, I am going to conduct an AB testing to understand what marketing strategies have been most effective to date"
   ]
  },
  {
   "cell_type": "code",
   "execution_count": 7,
   "metadata": {
    "ExecuteTime": {
     "end_time": "2020-12-14T01:45:41.514888Z",
     "start_time": "2020-12-14T01:45:41.509923Z"
    }
   },
   "outputs": [
    {
     "data": {
      "text/plain": [
       "Index(['subid', 'package_type', 'num_weekly_services_utilized',\n",
       "       'preferred_genre', 'intended_use', 'weekly_consumption_hour',\n",
       "       'num_ideal_streaming_services', 'age', 'male_TF',\n",
       "       'attribution_technical', 'attribution_survey', 'op_sys', 'plan_type',\n",
       "       'monthly_price', 'discount_price', 'account_creation_date',\n",
       "       'trial_end_date', 'initial_credit_card_declined', 'join_fee',\n",
       "       'payment_type', 'num_trial_days', 'current_sub_TF', 'payment_period',\n",
       "       'last_payment', 'next_payment', 'cancel_date', 'trial_completed'],\n",
       "      dtype='object')"
      ]
     },
     "execution_count": 7,
     "metadata": {},
     "output_type": "execute_result"
    }
   ],
   "source": [
    "# find the columns of the \"subscribers\" file\n",
    "subscribers.columns"
   ]
  },
  {
   "cell_type": "code",
   "execution_count": 8,
   "metadata": {
    "ExecuteTime": {
     "end_time": "2020-12-14T01:45:42.782871Z",
     "start_time": "2020-12-14T01:45:42.763921Z"
    }
   },
   "outputs": [
    {
     "data": {
      "text/plain": [
       "base_uae_14_day_trial                191032\n",
       "high_uae_14_day_trial                   325\n",
       "low_uae_no_trial                        166\n",
       "base_eur_14_day_trial                    18\n",
       "high_sar_14_day_trial                    12\n",
       "low_gbp_14_day_trial                      4\n",
       "high_aud_14_day_trial                     2\n",
       "low_eur_no_trial                          1\n",
       "low_sar_no_trial                          1\n",
       "base_uae_no_trial_7_day_guarantee         1\n",
       "high_jpy_14_day_trial                     1\n",
       "Name: plan_type, dtype: int64"
      ]
     },
     "execution_count": 8,
     "metadata": {},
     "output_type": "execute_result"
    }
   ],
   "source": [
    "# check the number of strategies applied\n",
    "# plan_type means pricing plan type, trial fee and duration\n",
    "subscribers['plan_type'].value_counts()"
   ]
  },
  {
   "cell_type": "code",
   "execution_count": 9,
   "metadata": {
    "ExecuteTime": {
     "end_time": "2020-12-14T01:45:43.860831Z",
     "start_time": "2020-12-14T01:45:43.852852Z"
    }
   },
   "outputs": [
    {
     "data": {
      "text/plain": [
       "True     105465\n",
       "False     86098\n",
       "Name: current_sub_TF, dtype: int64"
      ]
     },
     "execution_count": 9,
     "metadata": {},
     "output_type": "execute_result"
    }
   ],
   "source": [
    "#check the number of users\n",
    "subscribers['current_sub_TF'].value_counts()"
   ]
  },
  {
   "cell_type": "code",
   "execution_count": 10,
   "metadata": {
    "ExecuteTime": {
     "end_time": "2020-12-14T01:45:45.187000Z",
     "start_time": "2020-12-14T01:45:45.111203Z"
    }
   },
   "outputs": [
    {
     "name": "stderr",
     "output_type": "stream",
     "text": [
      "<ipython-input-10-5bd5ccf36fe5>:1: SettingWithCopyWarning: \n",
      "A value is trying to be set on a copy of a slice from a DataFrame.\n",
      "Try using .loc[row_indexer,col_indexer] = value instead\n",
      "\n",
      "See the caveats in the documentation: https://pandas.pydata.org/pandas-docs/stable/user_guide/indexing.html#returning-a-view-versus-a-copy\n",
      "  subscribers['current_sub_TF'] = subscribers['current_sub_TF'].astype(float)\n"
     ]
    },
    {
     "data": {
      "text/plain": [
       "plan_type\n",
       "base_eur_14_day_trial                    10.0\n",
       "base_uae_14_day_trial                105224.0\n",
       "base_uae_no_trial_7_day_guarantee         1.0\n",
       "high_aud_14_day_trial                     1.0\n",
       "high_jpy_14_day_trial                     1.0\n",
       "high_sar_14_day_trial                     2.0\n",
       "high_uae_14_day_trial                   179.0\n",
       "low_eur_no_trial                          0.0\n",
       "low_gbp_14_day_trial                      2.0\n",
       "low_sar_no_trial                          0.0\n",
       "low_uae_no_trial                         45.0\n",
       "Name: current_sub_TF, dtype: float64"
      ]
     },
     "execution_count": 10,
     "metadata": {},
     "output_type": "execute_result"
    }
   ],
   "source": [
    "subscribers['current_sub_TF'] = subscribers['current_sub_TF'].astype(float)\n",
    "subscribers.head()\n",
    "\n",
    "#segmenting the customers\n",
    "gb= subscribers.groupby(['plan_type']).sum()['current_sub_TF']\n",
    "gb"
   ]
  },
  {
   "cell_type": "code",
   "execution_count": 11,
   "metadata": {
    "ExecuteTime": {
     "end_time": "2020-12-14T01:45:47.012597Z",
     "start_time": "2020-12-14T01:45:46.859247Z"
    },
    "scrolled": true
   },
   "outputs": [
    {
     "data": {
      "text/html": [
       "<div>\n",
       "<style scoped>\n",
       "    .dataframe tbody tr th:only-of-type {\n",
       "        vertical-align: middle;\n",
       "    }\n",
       "\n",
       "    .dataframe tbody tr th {\n",
       "        vertical-align: top;\n",
       "    }\n",
       "\n",
       "    .dataframe thead th {\n",
       "        text-align: right;\n",
       "    }\n",
       "</style>\n",
       "<table border=\"1\" class=\"dataframe\">\n",
       "  <thead>\n",
       "    <tr style=\"text-align: right;\">\n",
       "      <th></th>\n",
       "      <th>sub</th>\n",
       "      <th>total</th>\n",
       "      <th>conversion_rate</th>\n",
       "    </tr>\n",
       "  </thead>\n",
       "  <tbody>\n",
       "    <tr>\n",
       "      <th>base_eur_14_day_trial</th>\n",
       "      <td>10.0</td>\n",
       "      <td>18</td>\n",
       "      <td>0.555556</td>\n",
       "    </tr>\n",
       "    <tr>\n",
       "      <th>base_uae_14_day_trial</th>\n",
       "      <td>105224.0</td>\n",
       "      <td>191032</td>\n",
       "      <td>0.550819</td>\n",
       "    </tr>\n",
       "    <tr>\n",
       "      <th>base_uae_no_trial_7_day_guarantee</th>\n",
       "      <td>1.0</td>\n",
       "      <td>1</td>\n",
       "      <td>1.000000</td>\n",
       "    </tr>\n",
       "    <tr>\n",
       "      <th>high_aud_14_day_trial</th>\n",
       "      <td>1.0</td>\n",
       "      <td>2</td>\n",
       "      <td>0.500000</td>\n",
       "    </tr>\n",
       "    <tr>\n",
       "      <th>high_jpy_14_day_trial</th>\n",
       "      <td>1.0</td>\n",
       "      <td>1</td>\n",
       "      <td>1.000000</td>\n",
       "    </tr>\n",
       "    <tr>\n",
       "      <th>high_sar_14_day_trial</th>\n",
       "      <td>2.0</td>\n",
       "      <td>12</td>\n",
       "      <td>0.166667</td>\n",
       "    </tr>\n",
       "    <tr>\n",
       "      <th>high_uae_14_day_trial</th>\n",
       "      <td>179.0</td>\n",
       "      <td>325</td>\n",
       "      <td>0.550769</td>\n",
       "    </tr>\n",
       "    <tr>\n",
       "      <th>low_eur_no_trial</th>\n",
       "      <td>0.0</td>\n",
       "      <td>1</td>\n",
       "      <td>0.000000</td>\n",
       "    </tr>\n",
       "    <tr>\n",
       "      <th>low_gbp_14_day_trial</th>\n",
       "      <td>2.0</td>\n",
       "      <td>4</td>\n",
       "      <td>0.500000</td>\n",
       "    </tr>\n",
       "    <tr>\n",
       "      <th>low_sar_no_trial</th>\n",
       "      <td>0.0</td>\n",
       "      <td>1</td>\n",
       "      <td>0.000000</td>\n",
       "    </tr>\n",
       "    <tr>\n",
       "      <th>low_uae_no_trial</th>\n",
       "      <td>45.0</td>\n",
       "      <td>166</td>\n",
       "      <td>0.271084</td>\n",
       "    </tr>\n",
       "  </tbody>\n",
       "</table>\n",
       "</div>"
      ],
      "text/plain": [
       "                                        sub   total  conversion_rate\n",
       "base_eur_14_day_trial                  10.0      18         0.555556\n",
       "base_uae_14_day_trial              105224.0  191032         0.550819\n",
       "base_uae_no_trial_7_day_guarantee       1.0       1         1.000000\n",
       "high_aud_14_day_trial                   1.0       2         0.500000\n",
       "high_jpy_14_day_trial                   1.0       1         1.000000\n",
       "high_sar_14_day_trial                   2.0      12         0.166667\n",
       "high_uae_14_day_trial                 179.0     325         0.550769\n",
       "low_eur_no_trial                        0.0       1         0.000000\n",
       "low_gbp_14_day_trial                    2.0       4         0.500000\n",
       "low_sar_no_trial                        0.0       1         0.000000\n",
       "low_uae_no_trial                       45.0     166         0.271084"
      ]
     },
     "execution_count": 11,
     "metadata": {},
     "output_type": "execute_result"
    }
   ],
   "source": [
    "#merge the columns to find the conversion rate\n",
    "dataframe = pd.DataFrame(list(gb),index=gb.index, columns=['current_sub_TF']).merge(subscribers['plan_type'].value_counts(),left_on=None, right_on=None, left_index=True, right_index=True)\n",
    "dataframe.columns = ['sub','total']\n",
    "dataframe['conversion_rate'] = dataframe['sub']/dataframe['total']\n",
    "dataframe"
   ]
  },
  {
   "cell_type": "code",
   "execution_count": 12,
   "metadata": {
    "ExecuteTime": {
     "end_time": "2020-12-14T01:45:48.875698Z",
     "start_time": "2020-12-14T01:45:48.788932Z"
    }
   },
   "outputs": [
    {
     "data": {
      "text/plain": [
       "1         A\n",
       "2         A\n",
       "3         A\n",
       "4         A\n",
       "5         A\n",
       "         ..\n",
       "227622    A\n",
       "227623    A\n",
       "227624    A\n",
       "227625    A\n",
       "227627    A\n",
       "Name: plan_type, Length: 191357, dtype: object"
      ]
     },
     "execution_count": 12,
     "metadata": {},
     "output_type": "execute_result"
    }
   ],
   "source": [
    "#\n",
    "\n",
    "subscribers = subscribers[subscribers['plan_type'].isin(['base_uae_14_day_trial','high_uae_14_day_trial'])]\n",
    "subscribers['plan_type'].value_counts()\n",
    "subscribers['plan_type'] = subscribers['plan_type'].apply(lambda x: 'A' if x == 'base_uae_14_day_trial' else 'B')\n",
    "subscribers['plan_type']"
   ]
  },
  {
   "cell_type": "code",
   "execution_count": 13,
   "metadata": {
    "ExecuteTime": {
     "end_time": "2020-12-14T01:45:56.609972Z",
     "start_time": "2020-12-14T01:45:56.579026Z"
    }
   },
   "outputs": [
    {
     "data": {
      "text/html": [
       "<div>\n",
       "<style scoped>\n",
       "    .dataframe tbody tr th:only-of-type {\n",
       "        vertical-align: middle;\n",
       "    }\n",
       "\n",
       "    .dataframe tbody tr th {\n",
       "        vertical-align: top;\n",
       "    }\n",
       "\n",
       "    .dataframe thead th {\n",
       "        text-align: right;\n",
       "    }\n",
       "</style>\n",
       "<table border=\"1\" class=\"dataframe\">\n",
       "  <thead>\n",
       "    <tr style=\"text-align: right;\">\n",
       "      <th></th>\n",
       "      <th></th>\n",
       "      <th>current_sub_TF</th>\n",
       "    </tr>\n",
       "    <tr>\n",
       "      <th>plan_type</th>\n",
       "      <th>current_sub_TF</th>\n",
       "      <th></th>\n",
       "    </tr>\n",
       "  </thead>\n",
       "  <tbody>\n",
       "    <tr>\n",
       "      <th rowspan=\"2\" valign=\"top\">A</th>\n",
       "      <th>1.0</th>\n",
       "      <td>105224</td>\n",
       "    </tr>\n",
       "    <tr>\n",
       "      <th>0.0</th>\n",
       "      <td>85808</td>\n",
       "    </tr>\n",
       "    <tr>\n",
       "      <th rowspan=\"2\" valign=\"top\">B</th>\n",
       "      <th>1.0</th>\n",
       "      <td>179</td>\n",
       "    </tr>\n",
       "    <tr>\n",
       "      <th>0.0</th>\n",
       "      <td>146</td>\n",
       "    </tr>\n",
       "  </tbody>\n",
       "</table>\n",
       "</div>"
      ],
      "text/plain": [
       "                          current_sub_TF\n",
       "plan_type current_sub_TF                \n",
       "A         1.0                     105224\n",
       "          0.0                      85808\n",
       "B         1.0                        179\n",
       "          0.0                        146"
      ]
     },
     "execution_count": 13,
     "metadata": {},
     "output_type": "execute_result"
    }
   ],
   "source": [
    "#group the variants\n",
    "a=subscribers.groupby('plan_type')['current_sub_TF'].value_counts()\n",
    "a_df = pd.DataFrame(a)\n",
    "a_df"
   ]
  },
  {
   "cell_type": "code",
   "execution_count": 14,
   "metadata": {
    "ExecuteTime": {
     "end_time": "2020-12-14T01:45:59.585865Z",
     "start_time": "2020-12-14T01:45:59.581868Z"
    }
   },
   "outputs": [
    {
     "data": {
      "text/plain": [
       "MultiIndex([('A', 1.0),\n",
       "            ('A', 0.0),\n",
       "            ('B', 1.0),\n",
       "            ('B', 0.0)],\n",
       "           names=['plan_type', 'current_sub_TF'])"
      ]
     },
     "execution_count": 14,
     "metadata": {},
     "output_type": "execute_result"
    }
   ],
   "source": [
    "a_df.index"
   ]
  },
  {
   "cell_type": "markdown",
   "metadata": {},
   "source": [
    "## conducting the test"
   ]
  },
  {
   "cell_type": "code",
   "execution_count": 15,
   "metadata": {
    "ExecuteTime": {
     "end_time": "2020-12-14T01:46:00.988324Z",
     "start_time": "2020-12-14T01:46:00.982341Z"
    }
   },
   "outputs": [
    {
     "name": "stdout",
     "output_type": "stream",
     "text": [
      "85808\n",
      "105224\n",
      "179\n",
      "146\n"
     ]
    }
   ],
   "source": [
    "A_False=a_df.loc[('A',0), 'current_sub_TF']\n",
    "print(A_False)\n",
    "A_True=a_df.loc[('A',1), 'current_sub_TF']\n",
    "print(A_True)\n",
    "B_True=a_df.loc[('B',1), 'current_sub_TF']\n",
    "print(B_True)\n",
    "B_False=a_df.loc[('B',0), 'current_sub_TF']\n",
    "print(B_False)"
   ]
  },
  {
   "cell_type": "code",
   "execution_count": null,
   "metadata": {
    "ExecuteTime": {
     "end_time": "2020-12-12T03:05:21.388244Z",
     "start_time": "2020-12-12T03:05:21.360808Z"
    }
   },
   "outputs": [],
   "source": [
    "p=A_True/(A_False+A_True)\n",
    "p"
   ]
  },
  {
   "cell_type": "code",
   "execution_count": null,
   "metadata": {
    "ExecuteTime": {
     "end_time": "2020-12-12T03:05:32.174532Z",
     "start_time": "2020-12-12T03:05:32.165620Z"
    }
   },
   "outputs": [],
   "source": [
    "p_hat=B_True/(B_True+B_False)\n",
    "p_hat"
   ]
  },
  {
   "cell_type": "code",
   "execution_count": null,
   "metadata": {
    "ExecuteTime": {
     "end_time": "2020-12-12T03:05:56.038364Z",
     "start_time": "2020-12-12T03:05:56.020988Z"
    }
   },
   "outputs": [],
   "source": [
    "import math\n",
    "z=(p_hat-p)/math.sqrt(p_hat*(1-p_hat)/5000)\n",
    "z"
   ]
  },
  {
   "cell_type": "code",
   "execution_count": null,
   "metadata": {
    "ExecuteTime": {
     "end_time": "2020-12-12T03:06:10.015208Z",
     "start_time": "2020-12-12T03:06:09.999326Z"
    }
   },
   "outputs": [],
   "source": [
    "if math.fabs(z) >=1.64:\n",
    "        print('z score is %f. Reject the null hypotheis and conclude that Alternative B improved conversion rates over alternative A.' %(z))\n",
    "else:\n",
    "        print('z score is %f. Fail to reject the null hypothesis and conclude that Alternative B did not improve conversion rates over alternative A.'%(z))\n",
    "        "
   ]
  },
  {
   "cell_type": "markdown",
   "metadata": {},
   "source": [
    "## Calculate optimal sample size"
   ]
  },
  {
   "cell_type": "code",
   "execution_count": 24,
   "metadata": {
    "ExecuteTime": {
     "end_time": "2020-12-14T02:02:09.472852Z",
     "start_time": "2020-12-14T02:02:09.465856Z"
    },
    "scrolled": true
   },
   "outputs": [
    {
     "name": "stdout",
     "output_type": "stream",
     "text": [
      "The optimal sample size is 1553575666.808724\n"
     ]
    }
   ],
   "source": [
    "# Calculate optimal sample size (beta=0.2)\n",
    "p0 = 0.534073\n",
    "p1 = 0.550819\n",
    "p2 = 0.550769\n",
    "p_average=(p1+p2)/2\n",
    "delta = p2-p1\n",
    "\n",
    "import scipy.stats as st\n",
    "import math\n",
    "t_0025=st.norm.ppf(0.975)\n",
    "t_0025\n",
    "t_02=st.norm.ppf(0.8)\n",
    "t_02\n",
    "\n",
    "a = t_0025 * math.sqrt(2*p_average*(1-p_average))\n",
    "b = t_02 * math.sqrt(p1*(1-p1)+p2*(1-p2))\n",
    "delta = p2-p1\n",
    "sample_size = ((a+b) * (a+b)) / ((delta)*(delta))   \n",
    "sample_size\n",
    "\n",
    "print(\"The optimal sample size is {}\".format(sample_size))"
   ]
  },
  {
   "cell_type": "markdown",
   "metadata": {},
   "source": [
    "# Customer Segmentation"
   ]
  },
  {
   "cell_type": "markdown",
   "metadata": {},
   "source": [
    "## Determining which variables to be used"
   ]
  },
  {
   "cell_type": "code",
   "execution_count": 25,
   "metadata": {
    "ExecuteTime": {
     "end_time": "2020-12-14T02:12:53.156204Z",
     "start_time": "2020-12-14T02:12:49.179492Z"
    }
   },
   "outputs": [],
   "source": [
    "from sklearn.preprocessing import MinMaxScaler\n",
    "from sklearn.model_selection import train_test_split\n",
    "import numpy as np\n",
    "from sklearn.cluster import KMeans\n",
    "from scipy.spatial.distance import cdist\n",
    "import matplotlib.pyplot as plt\n",
    "import seaborn as sns\n",
    "from sklearn.decomposition import PCA"
   ]
  },
  {
   "cell_type": "code",
   "execution_count": 26,
   "metadata": {
    "ExecuteTime": {
     "end_time": "2020-12-14T02:12:53.380815Z",
     "start_time": "2020-12-14T02:12:53.301987Z"
    },
    "scrolled": true
   },
   "outputs": [
    {
     "data": {
      "text/html": [
       "<div>\n",
       "<style scoped>\n",
       "    .dataframe tbody tr th:only-of-type {\n",
       "        vertical-align: middle;\n",
       "    }\n",
       "\n",
       "    .dataframe tbody tr th {\n",
       "        vertical-align: top;\n",
       "    }\n",
       "\n",
       "    .dataframe thead th {\n",
       "        text-align: right;\n",
       "    }\n",
       "</style>\n",
       "<table border=\"1\" class=\"dataframe\">\n",
       "  <thead>\n",
       "    <tr style=\"text-align: right;\">\n",
       "      <th></th>\n",
       "      <th>subid</th>\n",
       "      <th>package_type</th>\n",
       "      <th>preferred_genre</th>\n",
       "      <th>intended_use</th>\n",
       "      <th>weekly_consumption_hour</th>\n",
       "      <th>num_ideal_streaming_services</th>\n",
       "      <th>age</th>\n",
       "      <th>male_TF</th>\n",
       "      <th>attribution_technical</th>\n",
       "      <th>plan_type</th>\n",
       "      <th>monthly_price</th>\n",
       "      <th>discount_price</th>\n",
       "      <th>payment_type</th>\n",
       "      <th>num_trial_days</th>\n",
       "      <th>current_sub_TF</th>\n",
       "      <th>trial_completed</th>\n",
       "    </tr>\n",
       "  </thead>\n",
       "  <tbody>\n",
       "    <tr>\n",
       "      <th>6</th>\n",
       "      <td>29726122</td>\n",
       "      <td>base</td>\n",
       "      <td>comedy</td>\n",
       "      <td>access to exclusive content</td>\n",
       "      <td>20.051667</td>\n",
       "      <td>2.0</td>\n",
       "      <td>61.0</td>\n",
       "      <td>False</td>\n",
       "      <td>bing</td>\n",
       "      <td>A</td>\n",
       "      <td>4.7343</td>\n",
       "      <td>4.5141</td>\n",
       "      <td>Standard Charter</td>\n",
       "      <td>14</td>\n",
       "      <td>1.0</td>\n",
       "      <td>True</td>\n",
       "    </tr>\n",
       "    <tr>\n",
       "      <th>7</th>\n",
       "      <td>20299962</td>\n",
       "      <td>base</td>\n",
       "      <td>drama</td>\n",
       "      <td>access to exclusive content</td>\n",
       "      <td>34.551230</td>\n",
       "      <td>2.0</td>\n",
       "      <td>23.0</td>\n",
       "      <td>False</td>\n",
       "      <td>email</td>\n",
       "      <td>A</td>\n",
       "      <td>4.7343</td>\n",
       "      <td>4.5141</td>\n",
       "      <td>RAKBANK</td>\n",
       "      <td>14</td>\n",
       "      <td>1.0</td>\n",
       "      <td>True</td>\n",
       "    </tr>\n",
       "    <tr>\n",
       "      <th>20</th>\n",
       "      <td>21511732</td>\n",
       "      <td>enhanced</td>\n",
       "      <td>comedy</td>\n",
       "      <td>replace OTT</td>\n",
       "      <td>27.301448</td>\n",
       "      <td>2.0</td>\n",
       "      <td>26.0</td>\n",
       "      <td>False</td>\n",
       "      <td>organic</td>\n",
       "      <td>A</td>\n",
       "      <td>4.7343</td>\n",
       "      <td>4.5141</td>\n",
       "      <td>RAKBANK</td>\n",
       "      <td>14</td>\n",
       "      <td>1.0</td>\n",
       "      <td>True</td>\n",
       "    </tr>\n",
       "    <tr>\n",
       "      <th>27</th>\n",
       "      <td>20668260</td>\n",
       "      <td>economy</td>\n",
       "      <td>drama</td>\n",
       "      <td>access to exclusive content</td>\n",
       "      <td>21.501623</td>\n",
       "      <td>3.0</td>\n",
       "      <td>49.0</td>\n",
       "      <td>False</td>\n",
       "      <td>facebook</td>\n",
       "      <td>A</td>\n",
       "      <td>4.7343</td>\n",
       "      <td>4.5141</td>\n",
       "      <td>RAKBANK</td>\n",
       "      <td>14</td>\n",
       "      <td>1.0</td>\n",
       "      <td>True</td>\n",
       "    </tr>\n",
       "    <tr>\n",
       "      <th>28</th>\n",
       "      <td>21447938</td>\n",
       "      <td>base</td>\n",
       "      <td>drama</td>\n",
       "      <td>replace OTT</td>\n",
       "      <td>30.201361</td>\n",
       "      <td>2.0</td>\n",
       "      <td>59.0</td>\n",
       "      <td>False</td>\n",
       "      <td>display</td>\n",
       "      <td>A</td>\n",
       "      <td>4.7343</td>\n",
       "      <td>4.5141</td>\n",
       "      <td>RAKBANK</td>\n",
       "      <td>14</td>\n",
       "      <td>0.0</td>\n",
       "      <td>False</td>\n",
       "    </tr>\n",
       "  </tbody>\n",
       "</table>\n",
       "</div>"
      ],
      "text/plain": [
       "       subid package_type preferred_genre                 intended_use  \\\n",
       "6   29726122         base          comedy  access to exclusive content   \n",
       "7   20299962         base           drama  access to exclusive content   \n",
       "20  21511732     enhanced          comedy                  replace OTT   \n",
       "27  20668260      economy           drama  access to exclusive content   \n",
       "28  21447938         base           drama                  replace OTT   \n",
       "\n",
       "    weekly_consumption_hour  num_ideal_streaming_services   age male_TF  \\\n",
       "6                 20.051667                           2.0  61.0   False   \n",
       "7                 34.551230                           2.0  23.0   False   \n",
       "20                27.301448                           2.0  26.0   False   \n",
       "27                21.501623                           3.0  49.0   False   \n",
       "28                30.201361                           2.0  59.0   False   \n",
       "\n",
       "   attribution_technical plan_type  monthly_price  discount_price  \\\n",
       "6                   bing         A         4.7343          4.5141   \n",
       "7                  email         A         4.7343          4.5141   \n",
       "20               organic         A         4.7343          4.5141   \n",
       "27              facebook         A         4.7343          4.5141   \n",
       "28               display         A         4.7343          4.5141   \n",
       "\n",
       "        payment_type  num_trial_days  current_sub_TF  trial_completed  \n",
       "6   Standard Charter              14             1.0             True  \n",
       "7            RAKBANK              14             1.0             True  \n",
       "20           RAKBANK              14             1.0             True  \n",
       "27           RAKBANK              14             1.0             True  \n",
       "28           RAKBANK              14             0.0            False  "
      ]
     },
     "execution_count": 26,
     "metadata": {},
     "output_type": "execute_result"
    }
   ],
   "source": [
    "#however, it seems to be too large for the computer to operate, so we need to reduce the number of variables used.\n",
    "#drop the rows with NA value\n",
    "subscribers.drop(['join_fee','num_weekly_services_utilized','op_sys','attribution_survey','cancel_date','initial_credit_card_declined','payment_period','trial_end_date','account_creation_date','last_payment','next_payment'],axis=1,inplace=True)\n",
    "subscribers.dropna(inplace=True)\n",
    "# drop the columns that are useless for clustering and segmentation\n",
    "subscribers.head()"
   ]
  },
  {
   "cell_type": "code",
   "execution_count": 27,
   "metadata": {
    "ExecuteTime": {
     "end_time": "2020-12-14T02:12:53.460590Z",
     "start_time": "2020-12-14T02:12:53.416680Z"
    }
   },
   "outputs": [
    {
     "data": {
      "text/html": [
       "<div>\n",
       "<style scoped>\n",
       "    .dataframe tbody tr th:only-of-type {\n",
       "        vertical-align: middle;\n",
       "    }\n",
       "\n",
       "    .dataframe tbody tr th {\n",
       "        vertical-align: top;\n",
       "    }\n",
       "\n",
       "    .dataframe thead th {\n",
       "        text-align: right;\n",
       "    }\n",
       "</style>\n",
       "<table border=\"1\" class=\"dataframe\">\n",
       "  <thead>\n",
       "    <tr style=\"text-align: right;\">\n",
       "      <th></th>\n",
       "      <th>subid</th>\n",
       "      <th>weekly_consumption_hour</th>\n",
       "      <th>num_ideal_streaming_services</th>\n",
       "      <th>age</th>\n",
       "      <th>monthly_price</th>\n",
       "      <th>discount_price</th>\n",
       "      <th>num_trial_days</th>\n",
       "      <th>current_sub_TF</th>\n",
       "      <th>trial_completed</th>\n",
       "      <th>package_type_base</th>\n",
       "      <th>...</th>\n",
       "      <th>attribution_technical_vod</th>\n",
       "      <th>attribution_technical_youtube</th>\n",
       "      <th>plan_type_A</th>\n",
       "      <th>plan_type_B</th>\n",
       "      <th>payment_type_Apple Pay</th>\n",
       "      <th>payment_type_CBD</th>\n",
       "      <th>payment_type_Najim</th>\n",
       "      <th>payment_type_Paypal</th>\n",
       "      <th>payment_type_RAKBANK</th>\n",
       "      <th>payment_type_Standard Charter</th>\n",
       "    </tr>\n",
       "  </thead>\n",
       "  <tbody>\n",
       "    <tr>\n",
       "      <th>6</th>\n",
       "      <td>29726122</td>\n",
       "      <td>20.051667</td>\n",
       "      <td>2.0</td>\n",
       "      <td>61.0</td>\n",
       "      <td>4.7343</td>\n",
       "      <td>4.5141</td>\n",
       "      <td>14</td>\n",
       "      <td>1.0</td>\n",
       "      <td>True</td>\n",
       "      <td>1</td>\n",
       "      <td>...</td>\n",
       "      <td>0</td>\n",
       "      <td>0</td>\n",
       "      <td>1</td>\n",
       "      <td>0</td>\n",
       "      <td>0</td>\n",
       "      <td>0</td>\n",
       "      <td>0</td>\n",
       "      <td>0</td>\n",
       "      <td>0</td>\n",
       "      <td>1</td>\n",
       "    </tr>\n",
       "    <tr>\n",
       "      <th>7</th>\n",
       "      <td>20299962</td>\n",
       "      <td>34.551230</td>\n",
       "      <td>2.0</td>\n",
       "      <td>23.0</td>\n",
       "      <td>4.7343</td>\n",
       "      <td>4.5141</td>\n",
       "      <td>14</td>\n",
       "      <td>1.0</td>\n",
       "      <td>True</td>\n",
       "      <td>1</td>\n",
       "      <td>...</td>\n",
       "      <td>0</td>\n",
       "      <td>0</td>\n",
       "      <td>1</td>\n",
       "      <td>0</td>\n",
       "      <td>0</td>\n",
       "      <td>0</td>\n",
       "      <td>0</td>\n",
       "      <td>0</td>\n",
       "      <td>1</td>\n",
       "      <td>0</td>\n",
       "    </tr>\n",
       "    <tr>\n",
       "      <th>20</th>\n",
       "      <td>21511732</td>\n",
       "      <td>27.301448</td>\n",
       "      <td>2.0</td>\n",
       "      <td>26.0</td>\n",
       "      <td>4.7343</td>\n",
       "      <td>4.5141</td>\n",
       "      <td>14</td>\n",
       "      <td>1.0</td>\n",
       "      <td>True</td>\n",
       "      <td>0</td>\n",
       "      <td>...</td>\n",
       "      <td>0</td>\n",
       "      <td>0</td>\n",
       "      <td>1</td>\n",
       "      <td>0</td>\n",
       "      <td>0</td>\n",
       "      <td>0</td>\n",
       "      <td>0</td>\n",
       "      <td>0</td>\n",
       "      <td>1</td>\n",
       "      <td>0</td>\n",
       "    </tr>\n",
       "    <tr>\n",
       "      <th>27</th>\n",
       "      <td>20668260</td>\n",
       "      <td>21.501623</td>\n",
       "      <td>3.0</td>\n",
       "      <td>49.0</td>\n",
       "      <td>4.7343</td>\n",
       "      <td>4.5141</td>\n",
       "      <td>14</td>\n",
       "      <td>1.0</td>\n",
       "      <td>True</td>\n",
       "      <td>0</td>\n",
       "      <td>...</td>\n",
       "      <td>0</td>\n",
       "      <td>0</td>\n",
       "      <td>1</td>\n",
       "      <td>0</td>\n",
       "      <td>0</td>\n",
       "      <td>0</td>\n",
       "      <td>0</td>\n",
       "      <td>0</td>\n",
       "      <td>1</td>\n",
       "      <td>0</td>\n",
       "    </tr>\n",
       "    <tr>\n",
       "      <th>28</th>\n",
       "      <td>21447938</td>\n",
       "      <td>30.201361</td>\n",
       "      <td>2.0</td>\n",
       "      <td>59.0</td>\n",
       "      <td>4.7343</td>\n",
       "      <td>4.5141</td>\n",
       "      <td>14</td>\n",
       "      <td>0.0</td>\n",
       "      <td>False</td>\n",
       "      <td>1</td>\n",
       "      <td>...</td>\n",
       "      <td>0</td>\n",
       "      <td>0</td>\n",
       "      <td>1</td>\n",
       "      <td>0</td>\n",
       "      <td>0</td>\n",
       "      <td>0</td>\n",
       "      <td>0</td>\n",
       "      <td>0</td>\n",
       "      <td>1</td>\n",
       "      <td>0</td>\n",
       "    </tr>\n",
       "    <tr>\n",
       "      <th>...</th>\n",
       "      <td>...</td>\n",
       "      <td>...</td>\n",
       "      <td>...</td>\n",
       "      <td>...</td>\n",
       "      <td>...</td>\n",
       "      <td>...</td>\n",
       "      <td>...</td>\n",
       "      <td>...</td>\n",
       "      <td>...</td>\n",
       "      <td>...</td>\n",
       "      <td>...</td>\n",
       "      <td>...</td>\n",
       "      <td>...</td>\n",
       "      <td>...</td>\n",
       "      <td>...</td>\n",
       "      <td>...</td>\n",
       "      <td>...</td>\n",
       "      <td>...</td>\n",
       "      <td>...</td>\n",
       "      <td>...</td>\n",
       "      <td>...</td>\n",
       "    </tr>\n",
       "    <tr>\n",
       "      <th>227603</th>\n",
       "      <td>26067054</td>\n",
       "      <td>27.301448</td>\n",
       "      <td>2.0</td>\n",
       "      <td>55.0</td>\n",
       "      <td>4.7343</td>\n",
       "      <td>4.5141</td>\n",
       "      <td>14</td>\n",
       "      <td>0.0</td>\n",
       "      <td>False</td>\n",
       "      <td>1</td>\n",
       "      <td>...</td>\n",
       "      <td>0</td>\n",
       "      <td>0</td>\n",
       "      <td>1</td>\n",
       "      <td>0</td>\n",
       "      <td>0</td>\n",
       "      <td>0</td>\n",
       "      <td>0</td>\n",
       "      <td>0</td>\n",
       "      <td>0</td>\n",
       "      <td>1</td>\n",
       "    </tr>\n",
       "    <tr>\n",
       "      <th>227608</th>\n",
       "      <td>29190645</td>\n",
       "      <td>25.851492</td>\n",
       "      <td>2.0</td>\n",
       "      <td>46.0</td>\n",
       "      <td>4.7343</td>\n",
       "      <td>4.5141</td>\n",
       "      <td>14</td>\n",
       "      <td>1.0</td>\n",
       "      <td>True</td>\n",
       "      <td>0</td>\n",
       "      <td>...</td>\n",
       "      <td>0</td>\n",
       "      <td>0</td>\n",
       "      <td>1</td>\n",
       "      <td>0</td>\n",
       "      <td>0</td>\n",
       "      <td>0</td>\n",
       "      <td>0</td>\n",
       "      <td>0</td>\n",
       "      <td>1</td>\n",
       "      <td>0</td>\n",
       "    </tr>\n",
       "    <tr>\n",
       "      <th>227612</th>\n",
       "      <td>21731043</td>\n",
       "      <td>28.751405</td>\n",
       "      <td>2.0</td>\n",
       "      <td>55.0</td>\n",
       "      <td>4.7343</td>\n",
       "      <td>4.5141</td>\n",
       "      <td>14</td>\n",
       "      <td>1.0</td>\n",
       "      <td>True</td>\n",
       "      <td>0</td>\n",
       "      <td>...</td>\n",
       "      <td>0</td>\n",
       "      <td>0</td>\n",
       "      <td>1</td>\n",
       "      <td>0</td>\n",
       "      <td>0</td>\n",
       "      <td>0</td>\n",
       "      <td>0</td>\n",
       "      <td>1</td>\n",
       "      <td>0</td>\n",
       "      <td>0</td>\n",
       "    </tr>\n",
       "    <tr>\n",
       "      <th>227616</th>\n",
       "      <td>26828621</td>\n",
       "      <td>27.301448</td>\n",
       "      <td>2.0</td>\n",
       "      <td>44.0</td>\n",
       "      <td>4.7343</td>\n",
       "      <td>4.5141</td>\n",
       "      <td>14</td>\n",
       "      <td>1.0</td>\n",
       "      <td>True</td>\n",
       "      <td>1</td>\n",
       "      <td>...</td>\n",
       "      <td>0</td>\n",
       "      <td>0</td>\n",
       "      <td>1</td>\n",
       "      <td>0</td>\n",
       "      <td>0</td>\n",
       "      <td>0</td>\n",
       "      <td>0</td>\n",
       "      <td>0</td>\n",
       "      <td>0</td>\n",
       "      <td>1</td>\n",
       "    </tr>\n",
       "    <tr>\n",
       "      <th>227624</th>\n",
       "      <td>25843074</td>\n",
       "      <td>27.301448</td>\n",
       "      <td>2.0</td>\n",
       "      <td>49.0</td>\n",
       "      <td>4.7343</td>\n",
       "      <td>4.5141</td>\n",
       "      <td>14</td>\n",
       "      <td>1.0</td>\n",
       "      <td>True</td>\n",
       "      <td>0</td>\n",
       "      <td>...</td>\n",
       "      <td>0</td>\n",
       "      <td>0</td>\n",
       "      <td>1</td>\n",
       "      <td>0</td>\n",
       "      <td>0</td>\n",
       "      <td>0</td>\n",
       "      <td>0</td>\n",
       "      <td>1</td>\n",
       "      <td>0</td>\n",
       "      <td>0</td>\n",
       "    </tr>\n",
       "  </tbody>\n",
       "</table>\n",
       "<p>30039 rows × 65 columns</p>\n",
       "</div>"
      ],
      "text/plain": [
       "           subid  weekly_consumption_hour  num_ideal_streaming_services   age  \\\n",
       "6       29726122                20.051667                           2.0  61.0   \n",
       "7       20299962                34.551230                           2.0  23.0   \n",
       "20      21511732                27.301448                           2.0  26.0   \n",
       "27      20668260                21.501623                           3.0  49.0   \n",
       "28      21447938                30.201361                           2.0  59.0   \n",
       "...          ...                      ...                           ...   ...   \n",
       "227603  26067054                27.301448                           2.0  55.0   \n",
       "227608  29190645                25.851492                           2.0  46.0   \n",
       "227612  21731043                28.751405                           2.0  55.0   \n",
       "227616  26828621                27.301448                           2.0  44.0   \n",
       "227624  25843074                27.301448                           2.0  49.0   \n",
       "\n",
       "        monthly_price  discount_price  num_trial_days  current_sub_TF  \\\n",
       "6              4.7343          4.5141              14             1.0   \n",
       "7              4.7343          4.5141              14             1.0   \n",
       "20             4.7343          4.5141              14             1.0   \n",
       "27             4.7343          4.5141              14             1.0   \n",
       "28             4.7343          4.5141              14             0.0   \n",
       "...               ...             ...             ...             ...   \n",
       "227603         4.7343          4.5141              14             0.0   \n",
       "227608         4.7343          4.5141              14             1.0   \n",
       "227612         4.7343          4.5141              14             1.0   \n",
       "227616         4.7343          4.5141              14             1.0   \n",
       "227624         4.7343          4.5141              14             1.0   \n",
       "\n",
       "        trial_completed  package_type_base  ...  attribution_technical_vod  \\\n",
       "6                  True                  1  ...                          0   \n",
       "7                  True                  1  ...                          0   \n",
       "20                 True                  0  ...                          0   \n",
       "27                 True                  0  ...                          0   \n",
       "28                False                  1  ...                          0   \n",
       "...                 ...                ...  ...                        ...   \n",
       "227603            False                  1  ...                          0   \n",
       "227608             True                  0  ...                          0   \n",
       "227612             True                  0  ...                          0   \n",
       "227616             True                  1  ...                          0   \n",
       "227624             True                  0  ...                          0   \n",
       "\n",
       "        attribution_technical_youtube  plan_type_A  plan_type_B  \\\n",
       "6                                   0            1            0   \n",
       "7                                   0            1            0   \n",
       "20                                  0            1            0   \n",
       "27                                  0            1            0   \n",
       "28                                  0            1            0   \n",
       "...                               ...          ...          ...   \n",
       "227603                              0            1            0   \n",
       "227608                              0            1            0   \n",
       "227612                              0            1            0   \n",
       "227616                              0            1            0   \n",
       "227624                              0            1            0   \n",
       "\n",
       "        payment_type_Apple Pay  payment_type_CBD  payment_type_Najim  \\\n",
       "6                            0                 0                   0   \n",
       "7                            0                 0                   0   \n",
       "20                           0                 0                   0   \n",
       "27                           0                 0                   0   \n",
       "28                           0                 0                   0   \n",
       "...                        ...               ...                 ...   \n",
       "227603                       0                 0                   0   \n",
       "227608                       0                 0                   0   \n",
       "227612                       0                 0                   0   \n",
       "227616                       0                 0                   0   \n",
       "227624                       0                 0                   0   \n",
       "\n",
       "        payment_type_Paypal  payment_type_RAKBANK  \\\n",
       "6                         0                     0   \n",
       "7                         0                     1   \n",
       "20                        0                     1   \n",
       "27                        0                     1   \n",
       "28                        0                     1   \n",
       "...                     ...                   ...   \n",
       "227603                    0                     0   \n",
       "227608                    0                     1   \n",
       "227612                    1                     0   \n",
       "227616                    0                     0   \n",
       "227624                    1                     0   \n",
       "\n",
       "        payment_type_Standard Charter  \n",
       "6                                   1  \n",
       "7                                   0  \n",
       "20                                  0  \n",
       "27                                  0  \n",
       "28                                  0  \n",
       "...                               ...  \n",
       "227603                              1  \n",
       "227608                              0  \n",
       "227612                              0  \n",
       "227616                              1  \n",
       "227624                              0  \n",
       "\n",
       "[30039 rows x 65 columns]"
      ]
     },
     "execution_count": 27,
     "metadata": {},
     "output_type": "execute_result"
    }
   ],
   "source": [
    "#use get_dummies function to change those qualitative columns into binary ones\n",
    "subscribers_encoded = pd.get_dummies(subscribers)\n",
    "subscribers_encoded"
   ]
  },
  {
   "cell_type": "code",
   "execution_count": 28,
   "metadata": {
    "ExecuteTime": {
     "end_time": "2020-12-14T02:12:53.787715Z",
     "start_time": "2020-12-14T02:12:53.519407Z"
    }
   },
   "outputs": [],
   "source": [
    "# minmax scaler (this part is referred from HW2)\n",
    "scaler = MinMaxScaler()\n",
    "train_X,test_X = train_test_split(subscribers_encoded, test_size=0.3, random_state=930)\n",
    "X_train = scaler.fit_transform(train_X)\n",
    "X_test = scaler.transform(test_X)\n",
    "\n",
    "X = scaler.transform(subscribers_encoded)\n"
   ]
  },
  {
   "cell_type": "code",
   "execution_count": 34,
   "metadata": {
    "ExecuteTime": {
     "end_time": "2020-12-14T02:38:31.848266Z",
     "start_time": "2020-12-14T02:38:13.316592Z"
    }
   },
   "outputs": [
    {
     "data": {
      "image/png": "[encoded data removed]",
      "text/plain": [
       "<Figure size 432x288 with 1 Axes>"
      ]
     },
     "metadata": {
      "needs_background": "light"
     },
     "output_type": "display_data"
    }
   ],
   "source": [
    "# KMeans\n",
    "# choose k value with elbow method\n",
    "K = range(1, 20)\n",
    "meanDispersions = []\n",
    "for k in K:\n",
    "    kmeans = KMeans(n_clusters=k)\n",
    "    kmeans.fit(X_train)\n",
    "\n",
    "    meanDispersions.append(kmeans.inertia_)\n",
    "\n",
    "plt.plot(K, meanDispersions, 'rx-')\n",
    "plt.xlabel('k')\n",
    "plt.ylabel('Average Dispersion')\n",
    "plt.title('Selecting k with the Elbow Method')\n",
    "plt.show() \n",
    "\n",
    "# From the graph I would select k=4 as the optimal number of clusters\n",
    "\n",
    "# cluster\n",
    "kmeans = KMeans(n_clusters=4)\n",
    "\n",
    "y1 = kmeans.fit_predict(X_train)\n",
    "y2 = kmeans.predict(X_test)\n",
    "whole_data = kmeans.predict(X)\n",
    "\n",
    "#generate two subsets with data generated from last step \n",
    "train = pd.DataFrame(train_X,columns = subscribers_encoded.columns)\n",
    "test = pd.DataFrame(test_X,columns = subscribers_encoded.columns)\n",
    "#then add the prediction of clustering to these data\n",
    "train['Cluster'] = y1\n",
    "test['Cluster'] = y2\n",
    "subscribers_encoded['Cluster'] = whole_data\n",
    "subscribers_encoded.to_csv('clustered.csv')"
   ]
  },
  {
   "cell_type": "code",
   "execution_count": 31,
   "metadata": {
    "ExecuteTime": {
     "end_time": "2020-12-14T02:16:35.252605Z",
     "start_time": "2020-12-14T02:16:35.217674Z"
    }
   },
   "outputs": [],
   "source": [
    "# check the outcomes of each cluster\n",
    "groupby = subscribers_encoded.groupby(by='Cluster').mean()\n",
    "groupby.to_csv('clusters.csv')"
   ]
  },
  {
   "cell_type": "markdown",
   "metadata": {},
   "source": [
    "# churn model "
   ]
  },
  {
   "cell_type": "markdown",
   "metadata": {},
   "source": [
    "## building the CART model"
   ]
  },
  {
   "cell_type": "code",
   "execution_count": null,
   "metadata": {
    "ExecuteTime": {
     "end_time": "2020-12-11T14:46:41.470404Z",
     "start_time": "2020-12-11T14:46:41.257898Z"
    }
   },
   "outputs": [],
   "source": [
    "import pandas as pd\n",
    "import numpy as np\n",
    "import matplotlib.pyplot as plt\n",
    "import seaborn as sns\n",
    "from sklearn.cluster import KMeans\n",
    "from sklearn import datasets\n",
    "from io import StringIO\n",
    "from sklearn.tree import export_graphviz\n",
    "from sklearn.model_selection import train_test_split\n",
    "from sklearn import tree"
   ]
  },
  {
   "cell_type": "code",
   "execution_count": null,
   "metadata": {
    "ExecuteTime": {
     "end_time": "2020-12-11T14:46:43.729233Z",
     "start_time": "2020-12-11T14:46:43.652192Z"
    }
   },
   "outputs": [],
   "source": [
    "subscribers_classification = subscribers.copy()\n",
    "#from the previous step, use all features.\n",
    "subscribers_classification.info()"
   ]
  },
  {
   "cell_type": "code",
   "execution_count": null,
   "metadata": {
    "ExecuteTime": {
     "end_time": "2020-12-11T14:46:50.697321Z",
     "start_time": "2020-12-11T14:46:50.509881Z"
    }
   },
   "outputs": [],
   "source": [
    "#change the outcome variable as 0/1\n",
    "subscribers_classification['current_sub_01'] = subscribers_classification['current_sub_TF'].apply(lambda x: 1 if x>0 else 0)\n",
    "subscribers_classification.drop(['current_sub_TF'],axis=1,inplace=True)\n",
    "subscribers_classification['preferred_genre'] = subscribers_classification['preferred_genre'].astype(str)\n",
    "subscribers_classification['package_type'] = subscribers_classification['package_type'].astype(str)\n",
    "subscribers_classification['intended_use'] = subscribers_classification['intended_use'].astype(str)\n",
    "subscribers_classification['payment_type'] = subscribers_classification['payment_type'].astype(str)\n",
    "subscribers_classification.head(5)\n"
   ]
  },
  {
   "cell_type": "code",
   "execution_count": null,
   "metadata": {
    "ExecuteTime": {
     "end_time": "2020-12-11T14:51:48.589838Z",
     "start_time": "2020-12-11T14:51:48.287235Z"
    }
   },
   "outputs": [],
   "source": [
    "classification_encoded = pd.get_dummies(subscribers_classification)\n",
    "classification_encoded.info()"
   ]
  },
  {
   "cell_type": "code",
   "execution_count": null,
   "metadata": {
    "ExecuteTime": {
     "end_time": "2020-12-11T14:52:11.946253Z",
     "start_time": "2020-12-11T14:52:10.715715Z"
    }
   },
   "outputs": [],
   "source": [
    "from sklearn.metrics import plot_roc_curve\n",
    "label = classification_encoded.current_sub_01\n",
    "X=classification_encoded.drop(['current_sub_01'],axis=1,inplace=False)\n",
    "X_train, X_test, y_train, y_test = train_test_split(X, label, test_size=0.3, random_state=930)\n",
    "\n",
    "decision_tree = tree.DecisionTreeClassifier(max_depth=3)\n",
    "decision_tree = decision_tree.fit(X_train, y_train)\n",
    "\n",
    "tree_disp = plot_roc_curve(decision_tree, X_test, y_test)"
   ]
  },
  {
   "cell_type": "code",
   "execution_count": null,
   "metadata": {
    "ExecuteTime": {
     "end_time": "2020-12-11T14:53:13.518702Z",
     "start_time": "2020-12-11T14:53:12.879460Z"
    }
   },
   "outputs": [],
   "source": [
    "#confusion matrix\n",
    "from sklearn.metrics import confusion_matrix\n",
    "from sklearn.metrics import ConfusionMatrixDisplay\n",
    "y_pred = decision_tree.predict(X_test)\n",
    "cm = confusion_matrix(y_test, y_pred)\n",
    "\n",
    "cm_display = ConfusionMatrixDisplay(cm).plot()"
   ]
  },
  {
   "cell_type": "code",
   "execution_count": null,
   "metadata": {
    "ExecuteTime": {
     "end_time": "2020-12-11T15:02:05.949606Z",
     "start_time": "2020-12-11T15:02:05.810692Z"
    }
   },
   "outputs": [],
   "source": [
    "# reduce some highly correlated features\n",
    "subscribers_classification1 = subscribers_classification.drop(['monthly_price'],axis=1,inplace=False)\n",
    "subscribers_classification1.info()"
   ]
  },
  {
   "cell_type": "code",
   "execution_count": null,
   "metadata": {
    "ExecuteTime": {
     "end_time": "2020-12-11T15:02:11.489336Z",
     "start_time": "2020-12-11T15:02:09.751689Z"
    }
   },
   "outputs": [],
   "source": [
    "#change the size of the training set\n",
    "classification_encoded1 = pd.get_dummies(subscribers_classification1)\n",
    "label = classification_encoded1.current_sub_01\n",
    "X2=classification_encoded1.drop(['current_sub_01'],axis=1,inplace=False)\n",
    "X2_train, X2_test, y2_train, y2_test = train_test_split(X2, label, test_size=0.3, random_state=930)\n",
    "decision_tree2 = tree.DecisionTreeClassifier(max_depth=3)\n",
    "decision_tree2 = decision_tree2.fit(X_train, y_train)\n",
    "tree_disp = plot_roc_curve(decision_tree2, X_test, y_test)\n",
    "\n",
    "#confusion matrix\n",
    "from sklearn.metrics import confusion_matrix\n",
    "from sklearn.metrics import ConfusionMatrixDisplay\n",
    "y2_pred = decision_tree2.predict(X2_test)\n",
    "cm2 = confusion_matrix(y2_test, y2_pred)\n",
    "\n",
    "cm_display = ConfusionMatrixDisplay(cm2).plot()"
   ]
  },
  {
   "cell_type": "code",
   "execution_count": null,
   "metadata": {
    "ExecuteTime": {
     "end_time": "2020-12-11T15:03:27.931785Z",
     "start_time": "2020-12-11T15:03:26.130330Z"
    }
   },
   "outputs": [],
   "source": [
    "#changing max_depth\n",
    "from sklearn.metrics import plot_roc_curve\n",
    "label = classification_encoded.current_sub_01\n",
    "X=classification_encoded.drop(['current_sub_01'],axis=1,inplace=False)\n",
    "X_train, X_test, y_train, y_test = train_test_split(X, label, test_size=0.3, random_state=930)\n",
    "\n",
    "decision_tree = tree.DecisionTreeClassifier(max_depth=10)\n",
    "decision_tree = decision_tree.fit(X_train, y_train)\n",
    "\n",
    "tree_disp = plot_roc_curve(decision_tree, X_test, y_test)"
   ]
  },
  {
   "cell_type": "code",
   "execution_count": null,
   "metadata": {
    "ExecuteTime": {
     "end_time": "2020-12-11T15:03:53.008650Z",
     "start_time": "2020-12-11T15:03:52.581774Z"
    }
   },
   "outputs": [],
   "source": [
    "#confusion matrix\n",
    "from sklearn.metrics import confusion_matrix\n",
    "from sklearn.metrics import ConfusionMatrixDisplay\n",
    "y_pred = decision_tree.predict(X_test)\n",
    "cm = confusion_matrix(y_test, y_pred)\n",
    "\n",
    "cm_display = ConfusionMatrixDisplay(cm).plot()"
   ]
  },
  {
   "cell_type": "code",
   "execution_count": null,
   "metadata": {},
   "outputs": [],
   "source": []
  }
 ],
 "metadata": {
  "kernelspec": {
   "display_name": "Python 3",
   "language": "python",
   "name": "python3"
  },
  "language_info": {
   "codemirror_mode": {
    "name": "ipython",
    "version": 3
   },
   "file_extension": ".py",
   "mimetype": "text/x-python",
   "name": "python",
   "nbconvert_exporter": "python",
   "pygments_lexer": "ipython3",
   "version": "3.8.3"
  },
  "toc": {
   "base_numbering": 1,
   "nav_menu": {},
   "number_sections": true,
   "sideBar": true,
   "skip_h1_title": false,
   "title_cell": "Table of Contents",
   "title_sidebar": "Contents",
   "toc_cell": false,
   "toc_position": {
    "height": "calc(100% - 180px)",
    "left": "10px",
    "top": "150px",
    "width": "215px"
   },
   "toc_section_display": true,
   "toc_window_display": true
  },
  "varInspector": {
   "cols": {
    "lenName": 16,
    "lenType": 16,
    "lenVar": 40
   },
   "kernels_config": {
    "python": {
     "delete_cmd_postfix": "",
     "delete_cmd_prefix": "del ",
     "library": "var_list.py",
     "varRefreshCmd": "print(var_dic_list())"
    },
    "r": {
     "delete_cmd_postfix": ") ",
     "delete_cmd_prefix": "rm(",
     "library": "var_list.r",
     "varRefreshCmd": "cat(var_dic_list()) "
    }
   },
   "types_to_exclude": [
    "module",
    "function",
    "builtin_function_or_method",
    "instance",
    "_Feature"
   ],
   "window_display": false
  }
 },
 "nbformat": 4,
 "nbformat_minor": 4
}
